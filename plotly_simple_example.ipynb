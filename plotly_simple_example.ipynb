{
 "cells": [
  {
   "cell_type": "markdown",
   "id": "2eff49f7-83e6-41c3-b4fd-5bf88d3b83c3",
   "metadata": {},
   "source": [
    "**plotly_simple_example.ipynb**\n",
    "\n",
    "Wonhee Lee\n",
    "\n",
    "2024 MAY 11 (SAT)\n",
    "\n",
    "reference:"
   ]
  },
  {
   "cell_type": "code",
   "execution_count": 1,
   "id": "17a6828c-340c-4482-a732-044b1d2ae88e",
   "metadata": {},
   "outputs": [],
   "source": [
    "import plotly.express as px\n",
    "import plotly.io as pio\n",
    "pio.renderers.default = 'iframe'"
   ]
  },
  {
   "cell_type": "code",
   "execution_count": 2,
   "id": "85b89349-2b53-475e-b725-49d9531a3833",
   "metadata": {},
   "outputs": [],
   "source": [
    "import numpy as np"
   ]
  },
  {
   "cell_type": "code",
   "execution_count": 3,
   "id": "8e752647-798a-46bb-9ae3-8e5870fbca9f",
   "metadata": {},
   "outputs": [],
   "source": [
    "y = np.arange(7)"
   ]
  },
  {
   "cell_type": "code",
   "execution_count": 5,
   "id": "8e8da84a-f82c-415d-aedc-ec835424eefd",
   "metadata": {},
   "outputs": [
    {
     "data": {
      "text/html": [
       "<iframe\n",
       "    scrolling=\"no\"\n",
       "    width=\"100%\"\n",
       "    height=\"545px\"\n",
       "    src=\"iframe_figures/figure_5.html\"\n",
       "    frameborder=\"0\"\n",
       "    allowfullscreen\n",
       "></iframe>\n"
      ]
     },
     "metadata": {},
     "output_type": "display_data"
    }
   ],
   "source": [
    "fig = px.scatter(y=y)\n",
    "fig_model = px.line(y=np.ones_like(y))\n",
    "fig_model.data[0].line.color = \"#e02a19\"\n",
    "fig.add_trace(fig_model.data[0])\n",
    "\n",
    "fig.update_layout(\n",
    "    xaxis_title=\"<b>episode</b>\",\n",
    "    yaxis_title=\"<b>duration</b>\")\n",
    "\n",
    "fig.show()"
   ]
  },
  {
   "cell_type": "code",
   "execution_count": null,
   "id": "34478cc4-2c65-47fd-bcfb-a61e032a4494",
   "metadata": {},
   "outputs": [],
   "source": []
  }
 ],
 "metadata": {
  "kernelspec": {
   "display_name": "Python 3 (ipykernel)",
   "language": "python",
   "name": "python3"
  },
  "language_info": {
   "codemirror_mode": {
    "name": "ipython",
    "version": 3
   },
   "file_extension": ".py",
   "mimetype": "text/x-python",
   "name": "python",
   "nbconvert_exporter": "python",
   "pygments_lexer": "ipython3",
   "version": "3.11.9"
  }
 },
 "nbformat": 4,
 "nbformat_minor": 5
}
