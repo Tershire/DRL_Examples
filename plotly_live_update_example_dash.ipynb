{
 "cells": [
  {
   "cell_type": "markdown",
   "id": "90f3205d-8fbc-46f8-92d6-1d8ab5eee6bb",
   "metadata": {},
   "source": [
    "**plotly_live_update_example_dash.ipynb**\n",
    "\n",
    "Wonhee Lee\n",
    "\n",
    "2024 MAY 10 (FRI)\n",
    "\n",
    "reference:\n",
    "\n",
    "- https://velog.io/@sn50hee/3%EC%A3%BC%EC%B0%A8-Dash-Live-Updating-Components\n",
    "- https://www.tutorialspoint.com/plot-live-graphs-using-python-dash-and-plotly\n",
    "- https://plotly.com/python/creating-and-updating-figures/\n",
    "- https://dash.plotly.com/tutorial\n",
    "- https://abluesnake.tistory.com/152"
   ]
  },
  {
   "cell_type": "code",
   "execution_count": 1,
   "id": "15058754-53f0-4fec-aafe-4dce1e9a640a",
   "metadata": {},
   "outputs": [],
   "source": [
    "import plotly.express as px\n",
    "import plotly.io as pio\n",
    "pio.renderers.default = 'iframe'"
   ]
  },
  {
   "cell_type": "code",
   "execution_count": 2,
   "id": "f371bd64-e290-4f13-9e31-21a17002d899",
   "metadata": {},
   "outputs": [],
   "source": [
    "import dash\n",
    "from dash import Dash, dcc, html, Input, Output"
   ]
  },
  {
   "cell_type": "code",
   "execution_count": 3,
   "id": "bc2939d5-51ec-46d4-a44a-01e00c74da68",
   "metadata": {},
   "outputs": [],
   "source": [
    "import numpy as np"
   ]
  },
  {
   "cell_type": "markdown",
   "id": "b393eefd-5571-465a-9b56-2be92e65bdb4",
   "metadata": {},
   "source": [
    "# data"
   ]
  },
  {
   "cell_type": "code",
   "execution_count": 4,
   "id": "de6296cc-a3ba-49f8-ba09-c6acd23eb489",
   "metadata": {},
   "outputs": [],
   "source": [
    "def model(theta, x):\n",
    "    w, b = theta\n",
    "    return w*x + b"
   ]
  },
  {
   "cell_type": "code",
   "execution_count": 5,
   "id": "fbd3cbca-7883-403a-ae3b-ef01202023b8",
   "metadata": {},
   "outputs": [],
   "source": [
    "theta = (3, 1)"
   ]
  },
  {
   "cell_type": "code",
   "execution_count": 6,
   "id": "b467b758-235e-495b-9951-661d2e9e6cd8",
   "metadata": {},
   "outputs": [
    {
     "name": "stdout",
     "output_type": "stream",
     "text": [
      "[0 1 2 3 4 5 6]\n",
      "[-0.9288641   0.41805304  5.01472681 13.73163016 14.80579838 17.28171209\n",
      " 20.12490495]\n"
     ]
    }
   ],
   "source": [
    "x = np.arange(7)\n",
    "\n",
    "noise = np.random.normal(scale=4.5, size=(7,))\n",
    "y = model(theta, x) + noise\n",
    "\n",
    "print(x)\n",
    "print(y)"
   ]
  },
  {
   "cell_type": "markdown",
   "id": "e593acb9-e0d4-4e5f-820f-445ec4dd2356",
   "metadata": {},
   "source": [
    "# figure"
   ]
  },
  {
   "cell_type": "code",
   "execution_count": 7,
   "id": "dc050caa-4712-48ce-aaf7-5c70df4de3d1",
   "metadata": {},
   "outputs": [
    {
     "data": {
      "text/html": [
       "<iframe\n",
       "    scrolling=\"no\"\n",
       "    width=\"100%\"\n",
       "    height=\"545px\"\n",
       "    src=\"iframe_figures/figure_7.html\"\n",
       "    frameborder=\"0\"\n",
       "    allowfullscreen\n",
       "></iframe>\n"
      ]
     },
     "metadata": {},
     "output_type": "display_data"
    }
   ],
   "source": [
    "fig = px.scatter(x=x, y=y)\n",
    "fig_model = px.line(x=x, y=model(theta, x))\n",
    "fig_model.data[0].line.color = \"#e02a19\"\n",
    "fig.add_trace(fig_model.data[0])\n",
    "\n",
    "fig.show()"
   ]
  },
  {
   "cell_type": "markdown",
   "id": "fae6dcf6-4858-437d-9849-913e2a1ddda7",
   "metadata": {},
   "source": [
    "# static Dash app test"
   ]
  },
  {
   "cell_type": "code",
   "execution_count": 8,
   "id": "a58ca669-6d0f-4c0f-a54c-9e706d61da25",
   "metadata": {},
   "outputs": [],
   "source": [
    "# initialize Dash app\n",
    "app = Dash(__name__, external_stylesheets=None)\n",
    "\n",
    "# define app layout\n",
    "app.layout = html.Div([\n",
    "    #\n",
    "    html.H3(\"My Live Plot\"),\n",
    "    #\n",
    "    dcc.Graph(id=\"my_live_plot\", figure=fig),\n",
    "    #\n",
    "    dcc.Interval(\n",
    "        id=\"interval_manager\",\n",
    "        interval=1000,  # [ms] callback interval\n",
    "        n_intervals=0)])  # interval count"
   ]
  },
  {
   "cell_type": "code",
   "execution_count": 9,
   "id": "9d313d2b-3bc2-48a8-acb7-f4eb1a68990b",
   "metadata": {},
   "outputs": [],
   "source": [
    "# # run app\n",
    "# if __name__ == '__main__':\n",
    "#     app.run(debug=True)"
   ]
  },
  {
   "cell_type": "markdown",
   "id": "9f34a554-f5fe-4f29-acf2-8b1cf1e1c89b",
   "metadata": {},
   "source": [
    "# dynamic Dash app test"
   ]
  },
  {
   "cell_type": "code",
   "execution_count": 10,
   "id": "3b332e1d-9144-4857-bac3-0e795f367645",
   "metadata": {},
   "outputs": [],
   "source": [
    "# initialize Dash app\n",
    "app = Dash(__name__)\n",
    "\n",
    "# define app layout\n",
    "app.layout = html.Div([\n",
    "    #\n",
    "    html.H3(\"My Live Plot\"),\n",
    "    #\n",
    "    dcc.Graph(id=\"my_live_plot\"),\n",
    "    #\n",
    "    dcc.Interval(\n",
    "        id=\"interval_manager\",\n",
    "        interval=1000,  # [ms] callback interval\n",
    "        n_intervals=0)])  # interval count"
   ]
  },
  {
   "cell_type": "code",
   "execution_count": 11,
   "id": "0e17632b-fd27-4963-a0f0-73a102ada0ac",
   "metadata": {},
   "outputs": [],
   "source": [
    "# callback function\n",
    "@app.callback(Output(component_id=\"my_live_plot\", component_property=\"figure\"),\n",
    "    Input(component_id=\"interval_manager\", component_property=\"n_intervals\"))\n",
    "def update_figure(n):\n",
    "    global y\n",
    "    fig = px.scatter(x=x, y=y)\n",
    "    fig_model = px.line(x=x, y=model(theta, x))\n",
    "    fig_model.data[0].line.color = \"#e02a19\"\n",
    "    fig.add_trace(fig_model.data[0])\n",
    "    return fig"
   ]
  },
  {
   "cell_type": "code",
   "execution_count": 12,
   "id": "2d580694-2748-4d91-9ead-0cb86aeb9211",
   "metadata": {},
   "outputs": [
    {
     "data": {
      "text/html": [
       "\n",
       "        <iframe\n",
       "            width=\"100%\"\n",
       "            height=\"650\"\n",
       "            src=\"http://127.0.0.1:8051/\"\n",
       "            frameborder=\"0\"\n",
       "            allowfullscreen\n",
       "            \n",
       "        ></iframe>\n",
       "        "
      ],
      "text/plain": [
       "<IPython.lib.display.IFrame at 0x7515b5657b10>"
      ]
     },
     "metadata": {},
     "output_type": "display_data"
    }
   ],
   "source": [
    "# run app\n",
    "if __name__ == '__main__':\n",
    "    app.run(debug=True, port=8051)\n",
    "\n",
    "# the live plot will be shown below, but it can also be monitored on a web page: http://localhost:8051/"
   ]
  },
  {
   "cell_type": "markdown",
   "id": "b537809c-4c9d-48e0-b856-4f882c9f1fad",
   "metadata": {},
   "source": [
    "# update loop"
   ]
  },
  {
   "cell_type": "code",
   "execution_count": 13,
   "id": "8d6ab5c8-28de-4a4a-a35a-27a8d24072d2",
   "metadata": {},
   "outputs": [],
   "source": [
    "import time"
   ]
  },
  {
   "cell_type": "code",
   "execution_count": 14,
   "id": "c4815c7e-d9d8-479e-84a6-117f0a31bd8e",
   "metadata": {},
   "outputs": [],
   "source": [
    "for i in range(10):\n",
    "    theta = (3 + np.sin(i), 1)\n",
    "    noise = np.random.normal(scale=4.5, size=(7,))\n",
    "    y = model(theta, x) + noise\n",
    "    time.sleep(1)"
   ]
  }
 ],
 "metadata": {
  "kernelspec": {
   "display_name": "Python 3 (ipykernel)",
   "language": "python",
   "name": "python3"
  },
  "language_info": {
   "codemirror_mode": {
    "name": "ipython",
    "version": 3
   },
   "file_extension": ".py",
   "mimetype": "text/x-python",
   "name": "python",
   "nbconvert_exporter": "python",
   "pygments_lexer": "ipython3",
   "version": "3.11.9"
  }
 },
 "nbformat": 4,
 "nbformat_minor": 5
}
